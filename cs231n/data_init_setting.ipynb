{
 "cells": [
  {
   "cell_type": "code",
   "execution_count": 2,
   "metadata": {},
   "outputs": [
    {
     "name": "stdout",
     "output_type": "stream",
     "text": [
      "/home/vision/swoong/vision_practice/cs231n/datasets\n",
      "-----------cifar-10 data download start-----------\n",
      "--2023-02-06 21:24:39--  http://www.cs.toronto.edu/~kriz/cifar-10-python.tar.gz\n",
      "Resolving www.cs.toronto.edu (www.cs.toronto.edu)... 128.100.3.30\n",
      "Connecting to www.cs.toronto.edu (www.cs.toronto.edu)|128.100.3.30|:80... connected.\n",
      "HTTP request sent, awaiting response... 200 OK\n",
      "Length: 170498071 (163M) [application/x-gzip]\n",
      "Saving to: ‘cifar-10-python.tar.gz’\n",
      "\n",
      "cifar-10-python.tar 100%[===================>] 162.60M  16.2MB/s    in 11s     \n",
      "\n",
      "2023-02-06 21:24:51 (14.5 MB/s) - ‘cifar-10-python.tar.gz’ saved [170498071/170498071]\n",
      "\n",
      "cifar-10-batches-py/\n",
      "cifar-10-batches-py/data_batch_4\n",
      "cifar-10-batches-py/readme.html\n",
      "cifar-10-batches-py/test_batch\n",
      "cifar-10-batches-py/data_batch_3\n",
      "cifar-10-batches-py/batches.meta\n",
      "cifar-10-batches-py/data_batch_2\n",
      "cifar-10-batches-py/data_batch_5\n",
      "cifar-10-batches-py/data_batch_1\n",
      "--2023-02-06 21:24:52--  http://cs231n.stanford.edu/imagenet_val_25.npz\n",
      "Resolving cs231n.stanford.edu (cs231n.stanford.edu)... 171.64.68.10\n",
      "Connecting to cs231n.stanford.edu (cs231n.stanford.edu)|171.64.68.10|:80... connected.\n",
      "HTTP request sent, awaiting response... 200 OK\n",
      "Length: 3940548 (3.8M) [text/plain]\n",
      "Saving to: ‘imagenet_val_25.npz’\n",
      "\n",
      "imagenet_val_25.npz 100%[===================>]   3.76M  1.98MB/s    in 1.9s    \n",
      "\n",
      "2023-02-06 21:24:54 (1.98 MB/s) - ‘imagenet_val_25.npz’ saved [3940548/3940548]\n",
      "\n",
      "-----------cifar-10 data download complete!!-----------\n",
      "\n",
      "-----------cifar-10 data download start-----------\n",
      "--2023-02-06 21:24:54--  http://cs231n.stanford.edu/imagenet_val_25.npz\n",
      "Resolving cs231n.stanford.edu (cs231n.stanford.edu)... 171.64.68.10\n",
      "Connecting to cs231n.stanford.edu (cs231n.stanford.edu)|171.64.68.10|:80... connected.\n",
      "HTTP request sent, awaiting response... 200 OK\n",
      "Length: 3940548 (3.8M) [text/plain]\n",
      "Saving to: ‘imagenet_val_25.npz.1’\n",
      "\n",
      "imagenet_val_25.npz 100%[===================>]   3.76M  2.13MB/s    in 1.8s    \n",
      "\n",
      "2023-02-06 21:24:56 (2.13 MB/s) - ‘imagenet_val_25.npz.1’ saved [3940548/3940548]\n",
      "\n",
      "-----------cifar-10 data download complete!!-----------\n",
      "\n",
      "-----------cifar-10 data download start-----------\n",
      "--2023-02-06 21:24:57--  http://cs231n.stanford.edu/coco_captioning.zip\n",
      "Resolving cs231n.stanford.edu (cs231n.stanford.edu)... 171.64.68.10\n",
      "Connecting to cs231n.stanford.edu (cs231n.stanford.edu)|171.64.68.10|:80... connected.\n",
      "HTTP request sent, awaiting response... 200 OK\n",
      "Length: 1035210391 (987M) [application/zip]\n",
      "Saving to: ‘coco_captioning.zip’\n",
      "\n",
      "coco_captioning.zip  41%[=======>            ] 406.32M  17.7MB/s    eta 35s    ^C\n",
      "-----------cifar-10 data download complete!!-----------\n",
      "\n",
      "-----------total process complete-----------\n"
     ]
    }
   ],
   "source": [
    "%cd /home/vision/swoong/vision_practice/assignment1/cs231n/datasets/\n",
    "print(\"-----------data for assignment 1 download start-----------\")\n",
    "!bash get_datasets.sh\n",
    "\n",
    "%cd /home/vision/swoong/vision_practice/assignment2/cs231n/datasets/\n",
    "print(\"-----------data for assignment 1 download start-----------\")\n",
    "!bash get_datasets.sh\n",
    "!bash get_imagenet_val.sh\n",
    "\n",
    "%cd /home/vision/swoong/vision_practice/assignment3/cs231n/datasets/\n",
    "print(\"-----------data for assignment 1 download start-----------\")\n",
    "!bash get_datasets.sh\n",
    "!bash get_imagenet_val.sh\n",
    "!bash get_coco_captioning.sh\n",
    "\n",
    "print(\"-----------total process complete-----------\")"
   ]
  }
 ],
 "metadata": {
  "kernelspec": {
   "display_name": "Python 3.9.15 ('gigi')",
   "language": "python",
   "name": "python3"
  },
  "language_info": {
   "codemirror_mode": {
    "name": "ipython",
    "version": 3
   },
   "file_extension": ".py",
   "mimetype": "text/x-python",
   "name": "python",
   "nbconvert_exporter": "python",
   "pygments_lexer": "ipython3",
   "version": "3.9.15"
  },
  "vscode": {
   "interpreter": {
    "hash": "bd8d7f71e2b4c8d6795f1e2f8b5634cf7d781ae40a192a5a23a371f235c47a91"
   }
  }
 },
 "nbformat": 4,
 "nbformat_minor": 2
}
