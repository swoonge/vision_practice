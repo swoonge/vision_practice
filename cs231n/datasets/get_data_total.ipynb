{
 "cells": [
  {
   "cell_type": "code",
   "execution_count": 1,
   "metadata": {},
   "outputs": [
    {
     "name": "stdout",
     "output_type": "stream",
     "text": [
      "/home/vision/swoong/vision_practice/cs231n/datasets\n",
      "--2023-02-06 21:08:51--  http://www.cs.toronto.edu/~kriz/cifar-10-python.tar.gz\n",
      "Resolving www.cs.toronto.edu (www.cs.toronto.edu)... 128.100.3.30\n",
      "Connecting to www.cs.toronto.edu (www.cs.toronto.edu)|128.100.3.30|:80... connected.\n",
      "HTTP request sent, awaiting response... 200 OK\n",
      "Length: 170498071 (163M) [application/x-gzip]\n",
      "Saving to: ‘cifar-10-python.tar.gz’\n",
      "\n",
      "cifar-10-python.tar 100%[===================>] 162.60M  12.9MB/s    in 29s     \n",
      "\n",
      "2023-02-06 21:09:21 (5.70 MB/s) - ‘cifar-10-python.tar.gz’ saved [170498071/170498071]\n",
      "\n",
      "cifar-10-batches-py/\n",
      "cifar-10-batches-py/data_batch_4\n",
      "cifar-10-batches-py/readme.html\n",
      "cifar-10-batches-py/test_batch\n",
      "cifar-10-batches-py/data_batch_3\n",
      "cifar-10-batches-py/batches.meta\n",
      "cifar-10-batches-py/data_batch_2\n",
      "cifar-10-batches-py/data_batch_5\n",
      "cifar-10-batches-py/data_batch_1\n",
      "--2023-02-06 21:09:22--  http://cs231n.stanford.edu/imagenet_val_25.npz\n",
      "Resolving cs231n.stanford.edu (cs231n.stanford.edu)... 171.64.68.10\n",
      "Connecting to cs231n.stanford.edu (cs231n.stanford.edu)|171.64.68.10|:80... connected.\n",
      "HTTP request sent, awaiting response... 200 OK\n",
      "Length: 3940548 (3.8M) [text/plain]\n",
      "Saving to: ‘imagenet_val_25.npz.2’\n",
      "\n",
      "imagenet_val_25.npz 100%[===================>]   3.76M  1.97MB/s    in 1.9s    \n",
      "\n",
      "2023-02-06 21:09:24 (1.97 MB/s) - ‘imagenet_val_25.npz.2’ saved [3940548/3940548]\n",
      "\n",
      "--2023-02-06 21:09:24--  http://cs231n.stanford.edu/imagenet_val_25.npz\n",
      "Resolving cs231n.stanford.edu (cs231n.stanford.edu)... 171.64.68.10\n",
      "Connecting to cs231n.stanford.edu (cs231n.stanford.edu)|171.64.68.10|:80... connected.\n",
      "HTTP request sent, awaiting response... 200 OK\n",
      "Length: 3940548 (3.8M) [text/plain]\n",
      "Saving to: ‘imagenet_val_25.npz.3’\n",
      "\n",
      "imagenet_val_25.npz 100%[===================>]   3.76M  1.74MB/s    in 2.2s    \n",
      "\n",
      "2023-02-06 21:09:27 (1.74 MB/s) - ‘imagenet_val_25.npz.3’ saved [3940548/3940548]\n",
      "\n",
      "--2023-02-06 21:09:27--  http://cs231n.stanford.edu/coco_captioning.zip\n",
      "Resolving cs231n.stanford.edu (cs231n.stanford.edu)... 171.64.68.10\n",
      "Connecting to cs231n.stanford.edu (cs231n.stanford.edu)|171.64.68.10|:80... connected.\n",
      "HTTP request sent, awaiting response... 200 OK\n",
      "Length: 1035210391 (987M) [application/zip]\n",
      "Saving to: ‘coco_captioning.zip’\n",
      "\n",
      "coco_captioning.zip 100%[===================>] 987.25M  10.5MB/s    in 1m 56s  \n",
      "\n",
      "2023-02-06 21:11:23 (8.54 MB/s) - ‘coco_captioning.zip’ saved [1035210391/1035210391]\n",
      "\n",
      "Archive:  coco_captioning.zip\n",
      "   creating: coco_captioning/\n",
      "  inflating: coco_captioning/coco2014_captions.h5  \n",
      "  inflating: coco_captioning/coco2014_vocab.json  \n",
      "  inflating: coco_captioning/train2014_images.txt  \n",
      "  inflating: coco_captioning/train2014_urls.txt  \n",
      "  inflating: coco_captioning/train2014_vgg16_fc7.h5  \n",
      "  inflating: coco_captioning/train2014_vgg16_fc7_pca.h5  \n",
      "  inflating: coco_captioning/val2014_images.txt  \n",
      "  inflating: coco_captioning/val2014_urls.txt  \n",
      "  inflating: coco_captioning/val2014_vgg16_fc7.h5  \n",
      "  inflating: coco_captioning/val2014_vgg16_fc7_pca.h5  \n"
     ]
    }
   ],
   "source": [
    "%cd /home/vision/swoong/vision_practice/cs231n/datasets/\n",
    "print(\"-----------cifar-10 data download start-----------\")\n",
    "!bash get_datasets.sh\n",
    "print(\"-----------cifar-10 data download complete!!-----------\\n\")\n",
    "print(\"-----------cifar-10 data download start-----------\")\n",
    "!bash get_imagenet_val.sh\n",
    "print(\"-----------cifar-10 data download complete!!-----------\\n\")\n",
    "print(\"-----------cifar-10 data download start-----------\")\n",
    "!bash get_coco_captioning.sh\n",
    "print(\"-----------cifar-10 data download complete!!-----------\\n\")\n",
    "print(\"-----------total process complete-----------\")"
   ]
  }
 ],
 "metadata": {
  "kernelspec": {
   "display_name": "Python 3.9.15 ('gigi')",
   "language": "python",
   "name": "python3"
  },
  "language_info": {
   "codemirror_mode": {
    "name": "ipython",
    "version": 3
   },
   "file_extension": ".py",
   "mimetype": "text/x-python",
   "name": "python",
   "nbconvert_exporter": "python",
   "pygments_lexer": "ipython3",
   "version": "3.9.15"
  },
  "vscode": {
   "interpreter": {
    "hash": "bd8d7f71e2b4c8d6795f1e2f8b5634cf7d781ae40a192a5a23a371f235c47a91"
   }
  }
 },
 "nbformat": 4,
 "nbformat_minor": 2
}
