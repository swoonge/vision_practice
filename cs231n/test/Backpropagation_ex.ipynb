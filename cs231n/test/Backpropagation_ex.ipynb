{
 "cells": [
  {
   "cell_type": "code",
   "execution_count": 1,
   "metadata": {},
   "outputs": [],
   "source": [
    "import numpy as np"
   ]
  },
  {
   "cell_type": "code",
   "execution_count": 2,
   "metadata": {},
   "outputs": [
    {
     "name": "stdout",
     "output_type": "stream",
     "text": [
      "[[0.088 0.176]\n",
      " [0.104 0.208]]\n",
      "[[0.088 0.176]\n",
      " [0.104 0.208]]\n"
     ]
    }
   ],
   "source": [
    "W = np.array([[0.1, 0.5],[-0.3, 0.8]])\n",
    "x = np.array([[0.2], [0.4]])\n",
    "\n",
    "q = W.dot(x)\n",
    "\n",
    "dW = np.zeros(shape=W.shape)\n",
    "\n",
    "for c in range(W.shape[0]):\n",
    "    for r in range(W.shape[1]):\n",
    "        dW[c,r] = 2 * q[c] * x[r]\n",
    "print(dW)\n",
    "\n",
    "dW = np.zeros(shape=W.shape)\n",
    "dW = 2 * q.dot(np.transpose(x))\n",
    "print(dW)"
   ]
  },
  {
   "cell_type": "code",
   "execution_count": 3,
   "metadata": {},
   "outputs": [
    {
     "name": "stdout",
     "output_type": "stream",
     "text": [
      "[[-0.112]\n",
      " [ 0.636]]\n",
      "[[-0.112]\n",
      " [ 0.636]]\n"
     ]
    }
   ],
   "source": [
    "dx = np.zeros(shape=x.shape)\n",
    "for k in range(q.shape[0]):\n",
    "    for i in range(x.shape[0]):\n",
    "        dx[i] += 2 * q[k] * W[k][i]\n",
    "print(dx)\n",
    "\n",
    "dx = np.zeros(shape=x.shape)\n",
    "dx = 2 * np.transpose(W).dot(q)\n",
    "print(dx)"
   ]
  }
 ],
 "metadata": {
  "kernelspec": {
   "display_name": "Python 3.9.15 ('gigi')",
   "language": "python",
   "name": "python3"
  },
  "language_info": {
   "codemirror_mode": {
    "name": "ipython",
    "version": 3
   },
   "file_extension": ".py",
   "mimetype": "text/x-python",
   "name": "python",
   "nbconvert_exporter": "python",
   "pygments_lexer": "ipython3",
   "version": "3.9.15"
  },
  "orig_nbformat": 4,
  "vscode": {
   "interpreter": {
    "hash": "bd8d7f71e2b4c8d6795f1e2f8b5634cf7d781ae40a192a5a23a371f235c47a91"
   }
  }
 },
 "nbformat": 4,
 "nbformat_minor": 2
}
