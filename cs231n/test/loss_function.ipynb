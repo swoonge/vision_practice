{
 "cells": [
  {
   "cell_type": "code",
   "execution_count": null,
   "metadata": {},
   "outputs": [],
   "source": [
    "import numpy as np\n",
    "from Softmax import Softmax\n",
    "from SVM import SVM\n",
    "import Regularization\n",
    "import math"
   ]
  },
  {
   "cell_type": "code",
   "execution_count": null,
   "metadata": {},
   "outputs": [],
   "source": [
    "Softmax_loss = Softmax()\n",
    "Softmax_loss.calLoss([3.2, 5.1, -1.7], 0)"
   ]
  },
  {
   "cell_type": "code",
   "execution_count": null,
   "metadata": {},
   "outputs": [],
   "source": [
    "SVM_loss = SVM()\n",
    "SVM_loss.addSVMLoss([3.2, 5.1, -1.7], 0)\n",
    "SVM_loss.addSVMLoss([1.3, 4.9, 2.5], 1)\n",
    "SVM_loss.addSVMLoss([2.2, 2.5, -3.1], 2)\n",
    "SVM_loss.getMultiSVMLoss()"
   ]
  },
  {
   "cell_type": "code",
   "execution_count": null,
   "metadata": {},
   "outputs": [],
   "source": [
    "np.sum(np.array([0.25, 0.25, 0.25, 0.25])**2)\n",
    "np.sum(np.array([1, 0, 0, 0])**2)\n",
    "# 이 R(W) term이 커진다면 loss가 커진다. 함수는 학습할 loss가 작아지는 방향으로 학습한다.\n",
    "# 즉, 함수는 training data에 fit해지려고 하지만, 너무 fit 해지면(overfitting) 이 R(W) term이 커져 이를 방지한다.  "
   ]
  }
 ],
 "metadata": {
  "kernelspec": {
   "display_name": "Python 3.9.15 ('gigi')",
   "language": "python",
   "name": "python3"
  },
  "language_info": {
   "codemirror_mode": {
    "name": "ipython",
    "version": 3
   },
   "file_extension": ".py",
   "mimetype": "text/x-python",
   "name": "python",
   "nbconvert_exporter": "python",
   "pygments_lexer": "ipython3",
   "version": "3.9.15"
  },
  "orig_nbformat": 4,
  "vscode": {
   "interpreter": {
    "hash": "bd8d7f71e2b4c8d6795f1e2f8b5634cf7d781ae40a192a5a23a371f235c47a91"
   }
  }
 },
 "nbformat": 4,
 "nbformat_minor": 2
}
