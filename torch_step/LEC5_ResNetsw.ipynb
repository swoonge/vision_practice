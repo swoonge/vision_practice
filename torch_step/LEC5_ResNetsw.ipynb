{
 "cells": [
  {
   "cell_type": "code",
   "execution_count": null,
   "metadata": {},
   "outputs": [],
   "source": [
    "import torch\n",
    "import torch.nn as nn\n",
    "import torch.optim as optim\n",
    "import torch.nn.init as init\n",
    "import torchsummary\n",
    "\n",
    "import torchvision.datasets as datasets\n",
    "import torchvision.transforms as transforms\n",
    "from torch.utils.data import DataLoader\n",
    "\n",
    "from resnet_sw import *"
   ]
  },
  {
   "cell_type": "code",
   "execution_count": null,
   "metadata": {},
   "outputs": [],
   "source": [
    "device = torch.device('cuda' if torch.cuda.is_available() else 'cpu')\n",
    "resnet = resnet_sw([3, 4, 6, 3]).to(device)\n",
    "\n",
    "# 모델이 잘 통과하는지 확인\n",
    "x = torch.randn(1, 3, 32, 32).to(device)\n",
    "output = resnet(x)\n",
    "print(output.size())\n",
    "\n",
    "# 모델 summary\n",
    "torchsummary.summary(resnet, (3, 32, 32), device=device.type)"
   ]
  },
  {
   "cell_type": "code",
   "execution_count": null,
   "metadata": {},
   "outputs": [],
   "source": [
    "batch_size = 16\n",
    "learning_rate = 0.0001\n",
    "num_epoch = 30"
   ]
  },
  {
   "cell_type": "code",
   "execution_count": null,
   "metadata": {},
   "outputs": [],
   "source": [
    "CIFAR10_train=datasets.CIFAR10(\"../DataSets/\", train=True, transform=transforms.ToTensor(), target_transform=None, download=True)\n",
    "CIFAR10_test=datasets.CIFAR10(\"../DataSets/\", train=False, transform=transforms.ToTensor(), target_transform=None, download=True)"
   ]
  },
  {
   "cell_type": "code",
   "execution_count": null,
   "metadata": {},
   "outputs": [],
   "source": [
    "train_loader = DataLoader(CIFAR10_train, batch_size=batch_size, shuffle=True, num_workers=10, drop_last=True)\n",
    "test_loader = DataLoader(CIFAR10_test, batch_size=batch_size, shuffle=True, num_workers=10, drop_last=True)\n",
    "train_test = []\n",
    "for j, [img, label] in enumerate(test_loader):\n",
    "  if j >= 20: break\n",
    "  train_test.append([img, label])\n",
    "test_loader = DataLoader(CIFAR10_test, batch_size=batch_size, shuffle=True, num_workers=10, drop_last=True)"
   ]
  },
  {
   "cell_type": "code",
   "execution_count": null,
   "metadata": {},
   "outputs": [],
   "source": [
    "device=torch.device(\"cuda:0\" if torch.cuda.is_available() else \"cpu\")\n",
    "resnet = resnet_sw([3, 4, 6, 3]).to(device)\n",
    "\n",
    "loss_func=nn.CrossEntropyLoss()\n",
    "optimizer=optim.Adam(resnet.parameters(), lr=learning_rate)\n",
    "loss_array = []\n",
    "accuracy_array = []\n",
    "\n",
    "test_model_flag = False"
   ]
  },
  {
   "cell_type": "code",
   "execution_count": null,
   "metadata": {},
   "outputs": [],
   "source": [
    "def get_accuracy():\n",
    "  correct = 0\n",
    "  total = 0\n",
    "  with torch.no_grad():\n",
    "      val_datas = train_test if  test_model_flag is True else test_loader\n",
    "      for img, label in val_datas:\n",
    "          x = img.to(device)\n",
    "          y_ = label.to(device)\n",
    "\n",
    "          output = resnet.forward(x)\n",
    "          _, output_index = torch.max(output, 1)\n",
    "\n",
    "          total += label.size(0)\n",
    "          correct += (output_index == y_).sum().float()\n",
    "      return (correct/total)"
   ]
  },
  {
   "cell_type": "code",
   "execution_count": null,
   "metadata": {},
   "outputs": [],
   "source": [
    "train_datas = train_test if test_model_flag is True else train_loader\n",
    "for i in range(num_epoch):\n",
    "    print(\"epoch\", i, \"is start\")\n",
    "    for j, [img, label] in enumerate(train_datas):\n",
    "        x = img.to(device)\n",
    "        y_ = label.to(device)\n",
    "\n",
    "        optimizer.zero_grad()\n",
    "        output= resnet.forward(x)\n",
    "        loss = loss_func(output, y_)\n",
    "        loss.backward()\n",
    "        optimizer.step()\n",
    "\n",
    "        if ((j == 0) if test_model_flag is True else (j % 100 == 0)):\n",
    "            loss_array.append(loss.detach().cpu().numpy())\n",
    "            aa = get_accuracy()\n",
    "            print(\"Accuracy of Test Data: {}, \".format(100*aa), end=\" \"), print(\"loss: {}\".format(loss_array[-1]))\n",
    "            accuracy_array.append(aa.detach().cpu().numpy())"
   ]
  },
  {
   "cell_type": "code",
   "execution_count": null,
   "metadata": {},
   "outputs": [],
   "source": [
    "import matplotlib.pyplot as plt\n",
    "plt.plot(list(range(len(accuracy_array))), accuracy_array[:])\n",
    "plt.plot(loss_array[:])\n",
    "plt.show()"
   ]
  },
  {
   "cell_type": "code",
   "execution_count": null,
   "metadata": {},
   "outputs": [],
   "source": [
    "correct = 0\n",
    "total = 0\n",
    "with torch.no_grad():\n",
    "    for img, label in test_loader:\n",
    "        x = img.to(device)\n",
    "        y_ = label.to(device)\n",
    "\n",
    "        output = resnet.forward(x)\n",
    "        _, output_index = torch.max(output, 1)\n",
    "\n",
    "        total += label.size(0)\n",
    "        correct += (output_index == y_).sum().float()\n",
    "\n",
    "    print(\"Accuracy of Test Data: {}\".format(100*correct/total))"
   ]
  },
  {
   "cell_type": "code",
   "execution_count": null,
   "metadata": {},
   "outputs": [],
   "source": []
  }
 ],
 "metadata": {
  "kernelspec": {
   "display_name": "Python 3.9.16 ('py39')",
   "language": "python",
   "name": "python3"
  },
  "language_info": {
   "codemirror_mode": {
    "name": "ipython",
    "version": 3
   },
   "file_extension": ".py",
   "mimetype": "text/x-python",
   "name": "python",
   "nbconvert_exporter": "python",
   "pygments_lexer": "ipython3",
   "version": "3.8.10"
  },
  "orig_nbformat": 4,
  "vscode": {
   "interpreter": {
    "hash": "e7350abcaff91871cc2fda5041ddf4038d94572c9fca8856fb0fc40a5853d68d"
   }
  }
 },
 "nbformat": 4,
 "nbformat_minor": 2
}
