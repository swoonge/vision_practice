{
 "cells": [
  {
   "cell_type": "code",
   "execution_count": 1,
   "id": "14bf3979",
   "metadata": {},
   "outputs": [
    {
     "ename": "ImportError",
     "evalue": "/home/vision/catkin_ws/devel/lib/python2.7/dist-packages/cv2.so: undefined symbol: PyCObject_Type",
     "output_type": "error",
     "traceback": [
      "\u001b[0;31m---------------------------------------------------------------------------\u001b[0m",
      "\u001b[0;31mImportError\u001b[0m                               Traceback (most recent call last)",
      "\u001b[0;32m<ipython-input-1-c8ec22b3e787>\u001b[0m in \u001b[0;36m<module>\u001b[0;34m\u001b[0m\n\u001b[0;32m----> 1\u001b[0;31m \u001b[0;32mimport\u001b[0m \u001b[0mcv2\u001b[0m\u001b[0;34m\u001b[0m\u001b[0;34m\u001b[0m\u001b[0m\n\u001b[0m",
      "\u001b[0;31mImportError\u001b[0m: /home/vision/catkin_ws/devel/lib/python2.7/dist-packages/cv2.so: undefined symbol: PyCObject_Type"
     ]
    }
   ],
   "source": [
    "import cv2"
   ]
  },
  {
   "cell_type": "markdown",
   "id": "9f4db37c",
   "metadata": {},
   "source": [
    "import sys\n",
    "sys.executable"
   ]
  },
  {
   "cell_type": "code",
   "execution_count": 2,
   "id": "0e6516c4",
   "metadata": {},
   "outputs": [
    {
     "data": {
      "text/plain": [
       "['/home/vision/swoong/vision_practice',\n",
       " '',\n",
       " '/home/vision/catkin_ws/devel/lib/python2.7/dist-packages',\n",
       " '/opt/ros/melodic/lib/python2.7/dist-packages',\n",
       " '/home/vision/anaconda3/envs/swoong3.6/lib/python36.zip',\n",
       " '/home/vision/anaconda3/envs/swoong3.6/lib/python3.6',\n",
       " '/home/vision/anaconda3/envs/swoong3.6/lib/python3.6/lib-dynload',\n",
       " '/home/vision/.local/lib/python3.6/site-packages',\n",
       " '/home/vision/anaconda3/envs/swoong3.6/lib/python3.6/site-packages',\n",
       " '/home/vision/.local/lib/python3.6/site-packages/IPython/extensions',\n",
       " '/home/vision/.ipython']"
      ]
     },
     "execution_count": 2,
     "metadata": {},
     "output_type": "execute_result"
    }
   ],
   "source": [
    "import sys\n",
    "sys.path"
   ]
  },
  {
   "cell_type": "code",
   "execution_count": 2,
   "id": "97a22a4a",
   "metadata": {},
   "outputs": [],
   "source": [
    "\n",
    "del sys.path[2:4]"
   ]
  },
  {
   "cell_type": "code",
   "execution_count": 3,
   "id": "6d3a5295",
   "metadata": {},
   "outputs": [
    {
     "data": {
      "text/plain": [
       "['/home/vision/swoong/vision_practice',\n",
       " '',\n",
       " '/home/vision/anaconda3/envs/swoong_py3.6/lib/python36.zip',\n",
       " '/home/vision/anaconda3/envs/swoong_py3.6/lib/python3.6',\n",
       " '/home/vision/anaconda3/envs/swoong_py3.6/lib/python3.6/lib-dynload',\n",
       " '/home/vision/.local/lib/python3.6/site-packages',\n",
       " '/home/vision/anaconda3/envs/swoong_py3.6/lib/python3.6/site-packages',\n",
       " '/home/vision/swoong/vision_practice/SuperPoint',\n",
       " '/home/vision/.local/lib/python3.6/site-packages/IPython/extensions',\n",
       " '/home/vision/.ipython']"
      ]
     },
     "execution_count": 3,
     "metadata": {},
     "output_type": "execute_result"
    }
   ],
   "source": [
    "sys.path"
   ]
  }
 ],
 "metadata": {
  "kernelspec": {
   "display_name": "Python 3.6.13 ('super36')",
   "language": "python",
   "name": "python3"
  },
  "language_info": {
   "codemirror_mode": {
    "name": "ipython",
    "version": 3
   },
   "file_extension": ".py",
   "mimetype": "text/x-python",
   "name": "python",
   "nbconvert_exporter": "python",
   "pygments_lexer": "ipython3",
   "version": "3.6.13"
  },
  "vscode": {
   "interpreter": {
    "hash": "59117381f2afb8bdfad4d767508527b3770639d160105bde228f69ce1b4d481d"
   }
  }
 },
 "nbformat": 4,
 "nbformat_minor": 5
}
