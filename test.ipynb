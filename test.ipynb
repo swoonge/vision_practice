{
 "cells": [
  {
   "cell_type": "code",
   "execution_count": 1,
   "id": "14bf3979",
   "metadata": {},
   "outputs": [],
   "source": [
    "import cv2\n",
    "import torch"
   ]
  }
 ],
 "metadata": {
  "kernelspec": {
   "display_name": "Python 3.6.13 ('super36')",
   "language": "python",
   "name": "python3"
  },
  "language_info": {
   "codemirror_mode": {
    "name": "ipython",
    "version": 3
   },
   "file_extension": ".py",
   "mimetype": "text/x-python",
   "name": "python",
   "nbconvert_exporter": "python",
   "pygments_lexer": "ipython3",
   "version": "3.9.16"
  },
  "vscode": {
   "interpreter": {
    "hash": "59117381f2afb8bdfad4d767508527b3770639d160105bde228f69ce1b4d481d"
   }
  }
 },
 "nbformat": 4,
 "nbformat_minor": 5
}
