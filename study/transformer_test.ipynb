{
 "cells": [
  {
   "cell_type": "code",
   "execution_count": 1,
   "id": "016f48b8",
   "metadata": {},
   "outputs": [
    {
     "name": "stdout",
     "output_type": "stream",
     "text": [
      "['/home/vision/vision_practice/study', '', '/home/vision/catkin_ws/devel/lib/python3/dist-packages', '/opt/ros/noetic/lib/python3/dist-packages', '/usr/lib/python38.zip', '/usr/lib/python3.8', '/usr/lib/python3.8/lib-dynload', '/home/vision/.local/lib/python3.8/site-packages', '/usr/local/lib/python3.8/dist-packages', '/usr/lib/python3/dist-packages', '/home/vision/vision_practice/model']\n"
     ]
    }
   ],
   "source": [
    "import sys\n",
    "\n",
    "sys.path.append('/home/vision/vision_practice/model')\n",
    "sys.path.append('/home/vision/vision_practice/model/transformer')\n",
    "print(sys.path)"
   ]
  },
  {
   "cell_type": "code",
   "execution_count": 2,
   "id": "14bf3979",
   "metadata": {},
   "outputs": [
    {
     "ename": "ModuleNotFoundError",
     "evalue": "No module named 'conf'",
     "output_type": "error",
     "traceback": [
      "\u001b[0;31m---------------------------------------------------------------------------\u001b[0m",
      "\u001b[0;31mModuleNotFoundError\u001b[0m                       Traceback (most recent call last)",
      "Cell \u001b[0;32mIn[2], line 6\u001b[0m\n\u001b[1;32m      4\u001b[0m \u001b[39mimport\u001b[39;00m \u001b[39mnumpy\u001b[39;00m \u001b[39mas\u001b[39;00m \u001b[39mnp\u001b[39;00m\n\u001b[1;32m      5\u001b[0m \u001b[39m# vision_practice/model/transformer/data.py\u001b[39;00m\n\u001b[0;32m----> 6\u001b[0m \u001b[39mfrom\u001b[39;00m \u001b[39mtransformer\u001b[39;00m\u001b[39m.\u001b[39;00m\u001b[39mdata\u001b[39;00m \u001b[39mimport\u001b[39;00m \u001b[39m*\u001b[39m\n\u001b[1;32m      7\u001b[0m \u001b[39mfrom\u001b[39;00m \u001b[39mtransformer\u001b[39;00m\u001b[39m.\u001b[39;00m\u001b[39mmodels\u001b[39;00m\u001b[39m.\u001b[39;00m\u001b[39mmodel\u001b[39;00m\u001b[39m.\u001b[39;00m\u001b[39mtransformer\u001b[39;00m \u001b[39mimport\u001b[39;00m Transformer\n\u001b[1;32m      8\u001b[0m \u001b[39mfrom\u001b[39;00m \u001b[39mtransformer\u001b[39;00m\u001b[39m.\u001b[39;00m\u001b[39mutil\u001b[39;00m\u001b[39m.\u001b[39;00m\u001b[39mbleu\u001b[39;00m \u001b[39mimport\u001b[39;00m get_bleu, idx_to_word\n",
      "File \u001b[0;32m~/vision_practice/model/transformer/data.py:6\u001b[0m\n\u001b[1;32m      1\u001b[0m \u001b[39m\"\"\"\u001b[39;00m\n\u001b[1;32m      2\u001b[0m \u001b[39m@author : Hyunwoong\u001b[39;00m\n\u001b[1;32m      3\u001b[0m \u001b[39m@when : 2019-10-29\u001b[39;00m\n\u001b[1;32m      4\u001b[0m \u001b[39m@homepage : https://github.com/gusdnd852\u001b[39;00m\n\u001b[1;32m      5\u001b[0m \u001b[39m\"\"\"\u001b[39;00m\n\u001b[0;32m----> 6\u001b[0m \u001b[39mfrom\u001b[39;00m \u001b[39mconf\u001b[39;00m \u001b[39mimport\u001b[39;00m \u001b[39m*\u001b[39m\n\u001b[1;32m      7\u001b[0m \u001b[39mfrom\u001b[39;00m \u001b[39mutil\u001b[39;00m\u001b[39m.\u001b[39;00m\u001b[39mdata_loader\u001b[39;00m \u001b[39mimport\u001b[39;00m DataLoader\n\u001b[1;32m      8\u001b[0m \u001b[39mfrom\u001b[39;00m \u001b[39mutil\u001b[39;00m\u001b[39m.\u001b[39;00m\u001b[39mtokenizer\u001b[39;00m \u001b[39mimport\u001b[39;00m Tokenizer\n",
      "\u001b[0;31mModuleNotFoundError\u001b[0m: No module named 'conf'"
     ]
    }
   ],
   "source": [
    "import math\n",
    "from collections import Counter\n",
    "\n",
    "import numpy as np\n",
    "# vision_practice/model/transformer/data.py\n",
    "from transformer.data import *\n",
    "from transformer.models.model.transformer import Transformer\n",
    "from transformer.util.bleu import get_bleu, idx_to_word"
   ]
  },
  {
   "cell_type": "code",
   "execution_count": null,
   "id": "3788ad50",
   "metadata": {},
   "outputs": [],
   "source": [
    "\n",
    "def count_parameters(model):\n",
    "    return sum(p.numel() for p in model.parameters() if p.requires_grad)\n",
    "\n",
    "\n",
    "model = Transformer(src_pad_idx=src_pad_idx,\n",
    "                    trg_pad_idx=trg_pad_idx,\n",
    "                    trg_sos_idx=trg_sos_idx,\n",
    "                    d_model=d_model,\n",
    "                    enc_voc_size=enc_voc_size,\n",
    "                    dec_voc_size=dec_voc_size,\n",
    "                    max_len=max_len,\n",
    "                    ffn_hidden=ffn_hidden,\n",
    "                    n_head=n_heads,\n",
    "                    n_layers=n_layers,\n",
    "                    drop_prob=0.00,\n",
    "                    device=device).to(device)\n",
    "\n",
    "print(f'The model has {count_parameters(model):,} trainable parameters')\n",
    "\n",
    "\n",
    "def test_model(num_examples):\n",
    "    iterator = test_iter\n",
    "    model.load_state_dict(torch.load(\"./saved/model-saved.pt\"))\n",
    "\n",
    "    with torch.no_grad():\n",
    "        batch_bleu = []\n",
    "        for i, batch in enumerate(iterator):\n",
    "            src = batch.src\n",
    "            trg = batch.trg\n",
    "            output = model(src, trg[:, :-1])\n",
    "\n",
    "            total_bleu = []\n",
    "            for j in range(num_examples):\n",
    "                try:\n",
    "                    src_words = idx_to_word(src[j], loader.source.vocab)\n",
    "                    trg_words = idx_to_word(trg[j], loader.target.vocab)\n",
    "                    output_words = output[j].max(dim=1)[1]\n",
    "                    output_words = idx_to_word(output_words, loader.target.vocab)\n",
    "\n",
    "                    print('source :', src_words)\n",
    "                    print('target :', trg_words)\n",
    "                    print('predicted :', output_words)\n",
    "                    print()\n",
    "                    bleu = get_bleu(hypotheses=output_words.split(), reference=trg_words.split())\n",
    "                    total_bleu.append(bleu)\n",
    "                except:\n",
    "                    pass\n",
    "\n",
    "            total_bleu = sum(total_bleu) / len(total_bleu)\n",
    "            print('BLEU SCORE = {}'.format(total_bleu))\n",
    "            batch_bleu.append(total_bleu)\n",
    "\n",
    "        batch_bleu = sum(batch_bleu) / len(batch_bleu)\n",
    "        print('TOTAL BLEU SCORE = {}'.format(batch_bleu))\n",
    "\n",
    "\n",
    "if __name__ == '__main__':\n",
    "    test_model(num_examples=batch_size)\n"
   ]
  },
  {
   "cell_type": "code",
   "execution_count": null,
   "id": "4a275ec0",
   "metadata": {},
   "outputs": [],
   "source": []
  }
 ],
 "metadata": {
  "kernelspec": {
   "display_name": "Python 3.6.13 ('super36')",
   "language": "python",
   "name": "python3"
  },
  "language_info": {
   "codemirror_mode": {
    "name": "ipython",
    "version": 3
   },
   "file_extension": ".py",
   "mimetype": "text/x-python",
   "name": "python",
   "nbconvert_exporter": "python",
   "pygments_lexer": "ipython3",
   "version": "3.8.10"
  },
  "vscode": {
   "interpreter": {
    "hash": "59117381f2afb8bdfad4d767508527b3770639d160105bde228f69ce1b4d481d"
   }
  }
 },
 "nbformat": 4,
 "nbformat_minor": 5
}
